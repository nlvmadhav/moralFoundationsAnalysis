{
  "cells": [
    {
      "cell_type": "markdown",
      "metadata": {
        "id": "BrjfmIeSFKwl"
      },
      "source": [
        "# Sentiment analysis for Twitter Text\n",
        "- Primary step of the Morality based sentimental analysis. Text is tockenized using TF-IDF vectorization and BERT"
      ]
    },
    {
      "cell_type": "code",
      "execution_count": 1,
      "metadata": {
        "execution": {
          "iopub.execute_input": "2025-03-20T14:59:09.004597Z",
          "iopub.status.busy": "2025-03-20T14:59:09.004380Z",
          "iopub.status.idle": "2025-03-20T14:59:44.698362Z",
          "shell.execute_reply": "2025-03-20T14:59:44.697661Z",
          "shell.execute_reply.started": "2025-03-20T14:59:09.004576Z"
        },
        "id": "17xW2oPXFKwp",
        "trusted": true
      },
      "outputs": [
        {
          "name": "stderr",
          "output_type": "stream",
          "text": [
            "c:\\Users\\anura\\AppData\\Local\\Programs\\Python\\Python313\\Lib\\site-packages\\tqdm\\auto.py:21: TqdmWarning: IProgress not found. Please update jupyter and ipywidgets. See https://ipywidgets.readthedocs.io/en/stable/user_install.html\n",
            "  from .autonotebook import tqdm as notebook_tqdm\n"
          ]
        }
      ],
      "source": [
        "import pandas as pd\n",
        "import numpy as np\n",
        "import seaborn as sns\n",
        "import matplotlib.pyplot as plt\n",
        "from sklearn.metrics import confusion_matrix, accuracy_score, classification_report, f1_score,precision_recall_fscore_support\n",
        "from sklearn.model_selection import train_test_split,KFold\n",
        "from sklearn.feature_extraction.text import TfidfVectorizer\n",
        "from sklearn.linear_model import LogisticRegression\n",
        "from sklearn.utils.class_weight import compute_class_weight\n",
        "import torch.optim as optim\n",
        "from transformers import pipeline, BertTokenizer, BertForSequenceClassification, Trainer, TrainingArguments,BertPreTrainedModel, BertConfig,BertModel, AutoTokenizer,get_scheduler,AdamW\n",
        "from torch.utils.data import DataLoader, Dataset, SubsetRandomSampler, Subset\n",
        "from sklearn.preprocessing import LabelEncoder\n",
        "import torch\n",
        "import torch.nn as nn\n",
        "import requests\n",
        "import os\n",
        "import zipfile"
      ]
    },
    {
      "cell_type": "code",
      "execution_count": 3,
      "metadata": {
        "colab": {
          "base_uri": "https://localhost:8080/"
        },
        "execution": {
          "iopub.execute_input": "2025-03-20T15:00:21.169301Z",
          "iopub.status.busy": "2025-03-20T15:00:21.168996Z",
          "iopub.status.idle": "2025-03-20T15:00:21.219314Z",
          "shell.execute_reply": "2025-03-20T15:00:21.218410Z",
          "shell.execute_reply.started": "2025-03-20T15:00:21.169280Z"
        },
        "id": "G9gIJCuHFKwr",
        "outputId": "f9f7d5da-a43b-45b4-9b09-6cbca832abfb",
        "trusted": true
      },
      "outputs": [
        {
          "name": "stdout",
          "output_type": "stream",
          "text": [
            "  Corpus                                         Tweet Text  Stance  \\\n",
            "0    EVM  #EVMs are easy to manipulate . This was demons...       1   \n",
            "1    CAA             Congratulations\\nCAA  is arrived  #CAA       1   \n",
            "2    CAA  My dear Indian muslims we are 35 crores of pop...      -1   \n",
            "3    CAA  This guy was part of anti Hindu protests in th...       1   \n",
            "4    CAA  Woman protester breaks down while speaking to ...       0   \n",
            "\n",
            "  Foundation  cleaned_tweet  \n",
            "0   fairness            NaN  \n",
            "1    loyalty            NaN  \n",
            "2    loyalty            NaN  \n",
            "3  authority            NaN  \n",
            "4       care            NaN  \n"
          ]
        }
      ],
      "source": [
        "# Load dataset from CSV file\n",
        "file_path = r\"C:\\Users\\anura\\OneDrive\\Desktop\\proj\\moralFoundations\\updated_data.csv\"  # Replace with the actual file path\n",
        "df = pd.read_csv(file_path, encoding = \"ISO-8859-1\")\n",
        "\n",
        "# Display the first few rows of the dataset\n",
        "print(df.head())"
      ]
    },
    {
      "cell_type": "code",
      "execution_count": 4,
      "metadata": {
        "colab": {
          "base_uri": "https://localhost:8080/"
        },
        "execution": {
          "iopub.execute_input": "2025-03-20T15:00:24.035843Z",
          "iopub.status.busy": "2025-03-20T15:00:24.035524Z",
          "iopub.status.idle": "2025-03-20T15:00:24.050894Z",
          "shell.execute_reply": "2025-03-20T15:00:24.050129Z",
          "shell.execute_reply.started": "2025-03-20T15:00:24.035817Z"
        },
        "id": "tPCW2P-RFKwu",
        "outputId": "85f8ab38-9ca1-4477-a1a8-82e9ea813b95",
        "trusted": true
      },
      "outputs": [
        {
          "name": "stdout",
          "output_type": "stream",
          "text": [
            "Number of rows for each class:\n",
            "Corpus\n",
            "CAA                     207\n",
            "UCC                     190\n",
            "EVM                     180\n",
            "Animal Sacrifices       166\n",
            "Anti Conversion Laws    162\n",
            "LGBTQ                   160\n",
            "Brain Drain             148\n",
            "Name: count, dtype: int64\n",
            "\n",
            "Total number of rows: 1213\n"
          ]
        }
      ],
      "source": [
        "# Find the number of rows for each unique value in the first column\n",
        "class_counts = df.iloc[:, 0].value_counts()\n",
        "\n",
        "# Print the counts for each class\n",
        "print(\"Number of rows for each class:\")\n",
        "print(class_counts)\n",
        "\n",
        "# Print the total number of rows\n",
        "total_rows = df.shape[0]\n",
        "print(\"\\nTotal number of rows:\", total_rows)"
      ]
    },
    {
      "cell_type": "code",
      "execution_count": 5,
      "metadata": {
        "id": "4KT1rI8gK6Ij"
      },
      "outputs": [],
      "source": [
        "df = df[df[\"Foundation\"].notna()]"
      ]
    },
    {
      "cell_type": "code",
      "execution_count": 6,
      "metadata": {
        "execution": {
          "iopub.execute_input": "2025-03-20T15:00:26.947217Z",
          "iopub.status.busy": "2025-03-20T15:00:26.946834Z",
          "iopub.status.idle": "2025-03-20T15:00:26.951409Z",
          "shell.execute_reply": "2025-03-20T15:00:26.950548Z",
          "shell.execute_reply.started": "2025-03-20T15:00:26.947190Z"
        },
        "id": "wJkzNUHrFKww",
        "trusted": true
      },
      "outputs": [],
      "source": [
        "# Preprocess the data\n",
        "X = df['Tweet Text']\n",
        "y = df['Foundation']"
      ]
    },
    {
      "cell_type": "code",
      "execution_count": 7,
      "metadata": {
        "colab": {
          "base_uri": "https://localhost:8080/"
        },
        "execution": {
          "iopub.execute_input": "2025-03-20T15:00:34.547078Z",
          "iopub.status.busy": "2025-03-20T15:00:34.546726Z",
          "iopub.status.idle": "2025-03-20T15:00:34.552658Z",
          "shell.execute_reply": "2025-03-20T15:00:34.551835Z",
          "shell.execute_reply.started": "2025-03-20T15:00:34.547050Z"
        },
        "id": "vxiHkk27FKwx",
        "outputId": "6dcfb9ec-be04-42ea-f723-7c7dd9596994",
        "trusted": true
      },
      "outputs": [
        {
          "name": "stdout",
          "output_type": "stream",
          "text": [
            "0        fairness\n",
            "1         loyalty\n",
            "2         loyalty\n",
            "3       authority\n",
            "4            care\n",
            "          ...    \n",
            "1208     fairness\n",
            "1209       purity\n",
            "1210      loyalty\n",
            "1211      loyalty\n",
            "1212         care\n",
            "Name: Foundation, Length: 1099, dtype: object\n"
          ]
        }
      ],
      "source": [
        "print(y)"
      ]
    },
    {
      "cell_type": "markdown",
      "metadata": {
        "id": "fqV_h7VgFKwz"
      },
      "source": [
        "# Bert Model\n",
        "- The data set is limited(1213 Tweets).\n",
        "- Model is designed with bert as encoder and fully connected layers as classifier\n",
        "- Performing K(5 here) fold cross validation for analyzing the performance of the model on the dataset."
      ]
    },
    {
      "cell_type": "code",
      "execution_count": 35,
      "metadata": {
        "execution": {
          "iopub.execute_input": "2025-03-20T15:00:43.192035Z",
          "iopub.status.busy": "2025-03-20T15:00:43.191687Z",
          "iopub.status.idle": "2025-03-20T15:00:43.197391Z",
          "shell.execute_reply": "2025-03-20T15:00:43.196473Z",
          "shell.execute_reply.started": "2025-03-20T15:00:43.192008Z"
        },
        "id": "frdp4hBMFKwz",
        "trusted": true
      },
      "outputs": [],
      "source": [
        "# Model Setup\n",
        "class CustomDataset(Dataset):\n",
        "    def __init__(self, texts, labels, tokenizer, max_len):\n",
        "        self.texts = texts\n",
        "        self.labels = labels\n",
        "        self.tokenizer = tokenizer\n",
        "        self.max_len = max_len\n",
        "\n",
        "    def __len__(self):\n",
        "        return len(self.texts)\n",
        "\n",
        "    def __getitem__(self, item):\n",
        "        text = str(self.texts[item])\n",
        "        label = self.labels[item]\n",
        "        encoding = self.tokenizer.encode_plus(\n",
        "            text,\n",
        "            add_special_tokens=True,\n",
        "            max_length=self.max_len,\n",
        "            padding='max_length',\n",
        "            truncation=True,\n",
        "            return_tensors='pt'\n",
        "        )\n",
        "        return {\n",
        "            'input_ids': encoding['input_ids'].flatten(),\n",
        "            'attention_mask': encoding['attention_mask'].flatten(),\n",
        "            'label': torch.tensor(label, dtype=torch.long)\n",
        "        }"
      ]
    },
    {
      "cell_type": "code",
      "execution_count": 36,
      "metadata": {
        "execution": {
          "iopub.execute_input": "2025-03-20T15:01:24.043781Z",
          "iopub.status.busy": "2025-03-20T15:01:24.043499Z",
          "iopub.status.idle": "2025-03-20T15:01:24.049305Z",
          "shell.execute_reply": "2025-03-20T15:01:24.048487Z",
          "shell.execute_reply.started": "2025-03-20T15:01:24.043759Z"
        },
        "id": "PhmxkHW6FKw0",
        "trusted": true
      },
      "outputs": [],
      "source": [
        "class BertForSentimentAnalysis(BertPreTrainedModel):\n",
        "    def __init__(self, config):\n",
        "        super().__init__(config)\n",
        "        self.bert = BertModel(config)\n",
        "        self.dropout = nn.Dropout(0.3)  # Reduce dropout\n",
        "\n",
        "        # self.fc1 = nn.Linear(config.hidden_size, 512)  # One small FC layer\n",
        "        # self.relu = nn.ReLU()\n",
        "        self.classifier = nn.Linear(config.hidden_size, 5)  # Output layer\n",
        "\n",
        "    def forward(self, input_ids, attention_mask=None, token_type_ids=None, labels=None):\n",
        "        outputs = self.bert(input_ids, attention_mask=attention_mask, token_type_ids=token_type_ids)\n",
        "        pooled_output = outputs.pooler_output  # [CLS] token representation\n",
        "\n",
        "        x = self.dropout(pooled_output)\n",
        "        # x = self.fc1(x)\n",
        "        # x = self.relu(x)\n",
        "\n",
        "        logits = self.classifier(x)  # Final predictions\n",
        "\n",
        "        loss = None\n",
        "        if labels is not None:\n",
        "            loss_fct = nn.CrossEntropyLoss()\n",
        "            loss = loss_fct(logits, labels)\n",
        "\n",
        "        return {\"loss\": loss, \"logits\": logits}\n"
      ]
    },
    {
      "cell_type": "code",
      "execution_count": 11,
      "metadata": {
        "execution": {
          "iopub.execute_input": "2025-03-20T15:01:26.808321Z",
          "iopub.status.busy": "2025-03-20T15:01:26.807972Z",
          "iopub.status.idle": "2025-03-20T15:01:26.821895Z",
          "shell.execute_reply": "2025-03-20T15:01:26.821033Z",
          "shell.execute_reply.started": "2025-03-20T15:01:26.808294Z"
        },
        "id": "8eRnX6IGFKw0",
        "trusted": true
      },
      "outputs": [],
      "source": [
        "def k_fold_cross_validation(model, dataset, texts, label_encoder, k=5, batch_size=8, epochs=3, lr=2e-5):\n",
        "    kf = KFold(n_splits=k, shuffle=True, random_state=42)\n",
        "\n",
        "    losses, accuracies, precisions, recalls, f1_scores = [], [], [], [], []\n",
        "\n",
        "    for fold, (train_idx, val_idx) in enumerate(kf.split(dataset)):\n",
        "        print(f\"\\nFold {fold+1}/{k}\")\n",
        "\n",
        "        # Create dataset subsets instead of samplers\n",
        "        train_dataset = Subset(dataset, train_idx)\n",
        "        val_dataset = Subset(dataset, val_idx)\n",
        "\n",
        "        # Define training arguments\n",
        "        training_args = TrainingArguments(\n",
        "            output_dir=f\"./results/fold{fold}\",\n",
        "            num_train_epochs=epochs,\n",
        "            per_device_train_batch_size=batch_size,\n",
        "            per_device_eval_batch_size=batch_size,\n",
        "            evaluation_strategy=\"epoch\",\n",
        "            save_strategy=\"no\",\n",
        "            learning_rate=lr,\n",
        "            weight_decay=0.1,\n",
        "            logging_dir=\"./logs\",\n",
        "            logging_steps=10\n",
        "        )\n",
        "\n",
        "        trainer = Trainer(\n",
        "            model=model,\n",
        "            args=training_args,\n",
        "            train_dataset=train_dataset,\n",
        "            eval_dataset=val_dataset\n",
        "        )\n",
        "\n",
        "        # Train & Evaluate\n",
        "        trainer.train()\n",
        "        eval_result = trainer.evaluate()\n",
        "        losses.append(eval_result[\"eval_loss\"])\n",
        "\n",
        "        # Predictions & Labels\n",
        "        all_preds, all_labels, misclassified_samples = [], [], []\n",
        "\n",
        "        model.eval()\n",
        "        device = torch.device(\"cuda\" if torch.cuda.is_available() else \"cpu\")\n",
        "\n",
        "        val_loader = DataLoader(val_dataset, batch_size=batch_size)\n",
        "\n",
        "        with torch.no_grad():\n",
        "            for batch_idx, batch in enumerate(val_loader):\n",
        "                input_ids = batch[\"input_ids\"].to(device)\n",
        "                attention_mask = batch[\"attention_mask\"].to(device)\n",
        "                labels = batch[\"label\"].to(device)\n",
        "\n",
        "                outputs = model(input_ids, attention_mask=attention_mask)\n",
        "                logits = outputs[\"logits\"]  # BERT outputs logits\n",
        "                preds = torch.argmax(logits, dim=1)\n",
        "\n",
        "                all_preds.extend(preds.cpu().numpy())\n",
        "                all_labels.extend(labels.cpu().numpy())\n",
        "\n",
        "                # Store misclassified samples\n",
        "                for i, (pred, true) in enumerate(zip(preds, labels)):\n",
        "                    if pred != true:\n",
        "                        misclassified_samples.append((texts[val_idx[batch_idx * batch_size + i]], true.item(), pred.item()))\n",
        "\n",
        "        # Compute Metrics\n",
        "        accuracy = accuracy_score(all_labels, all_preds)\n",
        "        precision, recall, f1, _ = precision_recall_fscore_support(all_labels, all_preds, average=\"weighted\", zero_division=0)\n",
        "\n",
        "        accuracies.append(accuracy)\n",
        "        precisions.append(precision)\n",
        "        recalls.append(recall)\n",
        "        f1_scores.append(f1)\n",
        "\n",
        "        print(f\"Fold {fold+1} - Accuracy: {accuracy:.4f}, Precision: {precision:.4f}, Recall: {recall:.4f}, F1-score: {f1:.4f}\")\n",
        "\n",
        "        # Confusion Matrix\n",
        "        cm = confusion_matrix(all_labels, all_preds)\n",
        "        print(f\"Misclassifications per Class (Actual → Predicted):\\n{cm - np.diag(np.diag(cm))}\")\n",
        "\n",
        "        plt.figure(figsize=(6, 5))\n",
        "        sns.heatmap(cm, annot=True, fmt=\"d\", cmap=\"Blues\", xticklabels=list(label_encoder.classes_), yticklabels=list(label_encoder.classes_))\n",
        "        plt.xlabel(\"Predicted\")\n",
        "        plt.ylabel(\"Actual\")\n",
        "        plt.title(f\"Confusion Matrix - Fold {fold+1}\")\n",
        "        plt.show()\n",
        "\n",
        "        # Print some misclassified tweets\n",
        "        print(\"\\nMisclassified Tweets:\")\n",
        "        for text, true, pred in misclassified_samples[:5]:  # Show first 5 misclassified examples\n",
        "            print(f\" Tweet: \\\"{text}\\\" | True: {true} | Predicted: {pred}\")\n",
        "\n",
        "    # Print Final Averages\n",
        "    print(f\"\\nFinal Results Across {k} Folds:\")\n",
        "    print(f\"Avg Loss: {np.mean(losses):.4f}\")\n",
        "    print(f\"Avg Accuracy: {np.mean(accuracies):.4f}\")\n",
        "    print(f\"Avg Precision: {np.mean(precisions):.4f}\")\n",
        "    print(f\"Avg Recall: {np.mean(recalls):.4f}\")\n",
        "    print(f\"Avg F1-Score: {np.mean(f1_scores):.4f}\")"
      ]
    },
    {
      "cell_type": "code",
      "execution_count": 12,
      "metadata": {
        "execution": {
          "iopub.execute_input": "2025-03-20T15:01:34.432458Z",
          "iopub.status.busy": "2025-03-20T15:01:34.432088Z",
          "iopub.status.idle": "2025-03-20T15:01:35.651709Z",
          "shell.execute_reply": "2025-03-20T15:01:35.650758Z",
          "shell.execute_reply.started": "2025-03-20T15:01:34.432427Z"
        },
        "id": "457NdFbkFKw2",
        "trusted": true
      },
      "outputs": [],
      "source": [
        "bert_tokenizer = BertTokenizer.from_pretrained(\"bert-base-uncased\")"
      ]
    },
    {
      "cell_type": "code",
      "execution_count": 13,
      "metadata": {
        "execution": {
          "iopub.execute_input": "2025-03-20T15:01:38.258208Z",
          "iopub.status.busy": "2025-03-20T15:01:38.257838Z",
          "iopub.status.idle": "2025-03-20T15:01:38.264655Z",
          "shell.execute_reply": "2025-03-20T15:01:38.263792Z",
          "shell.execute_reply.started": "2025-03-20T15:01:38.258179Z"
        },
        "id": "BqX3-nciFKw2",
        "trusted": true
      },
      "outputs": [],
      "source": [
        "#label encodings for moral foundations\n",
        "label_encoder = LabelEncoder()\n",
        "y = label_encoder.fit_transform(y)"
      ]
    },
    {
      "cell_type": "code",
      "execution_count": 14,
      "metadata": {
        "execution": {
          "iopub.execute_input": "2025-03-20T15:01:41.593708Z",
          "iopub.status.busy": "2025-03-20T15:01:41.593423Z",
          "iopub.status.idle": "2025-03-20T15:01:41.597333Z",
          "shell.execute_reply": "2025-03-20T15:01:41.596527Z",
          "shell.execute_reply.started": "2025-03-20T15:01:41.593687Z"
        },
        "id": "q84Xs4NhFKw3",
        "trusted": true
      },
      "outputs": [],
      "source": [
        "MAX_LEN = 128\n",
        "bert_train_dataset = CustomDataset(X.tolist(), y.tolist(), bert_tokenizer, MAX_LEN)\n",
        "# bert_test_dataset = CustomDataset(X_test.tolist(), y_test.tolist(), bert_tokenizer, MAX_LEN)"
      ]
    },
    {
      "cell_type": "code",
      "execution_count": 15,
      "metadata": {
        "execution": {
          "iopub.execute_input": "2025-03-20T15:01:44.081968Z",
          "iopub.status.busy": "2025-03-20T15:01:44.081644Z",
          "iopub.status.idle": "2025-03-20T15:01:44.086797Z",
          "shell.execute_reply": "2025-03-20T15:01:44.086164Z",
          "shell.execute_reply.started": "2025-03-20T15:01:44.081903Z"
        },
        "id": "mN422T77FKw3",
        "trusted": true
      },
      "outputs": [],
      "source": [
        "bert_labels, bert_preds = [],[]\n",
        "def evaluate_on_test(model, test_dataset, batch_size=8):\n",
        "    test_loader = DataLoader(test_dataset, batch_size=batch_size)\n",
        "\n",
        "    # Store predictions & true labels\n",
        "\n",
        "    model.eval()  # Set model to evaluation mode\n",
        "    with torch.no_grad():\n",
        "        for batch in test_loader:\n",
        "            input_ids = batch[\"input_ids\"].to(device)\n",
        "            attention_mask = batch[\"attention_mask\"].to(device)\n",
        "            labels = batch[\"label\"].to(device)\n",
        "\n",
        "            outputs = model(input_ids, attention_mask=attention_mask)\n",
        "            logits = outputs[\"logits\"]\n",
        "            preds = torch.argmax(logits, dim=1)\n",
        "\n",
        "            bert_preds.extend(preds.cpu().numpy())\n",
        "            bert_labels.extend(labels.cpu().numpy())\n",
        "\n"
      ]
    },
    {
      "cell_type": "code",
      "execution_count": 16,
      "metadata": {
        "colab": {
          "base_uri": "https://localhost:8080/"
        },
        "execution": {
          "iopub.execute_input": "2025-03-20T15:01:54.704253Z",
          "iopub.status.busy": "2025-03-20T15:01:54.703864Z",
          "iopub.status.idle": "2025-03-20T15:01:57.488689Z",
          "shell.execute_reply": "2025-03-20T15:01:57.487852Z",
          "shell.execute_reply.started": "2025-03-20T15:01:54.704219Z"
        },
        "id": "d-Z58d3eFKw3",
        "outputId": "e36a30e4-524e-4b56-9e0a-3003c8c2378b",
        "trusted": true
      },
      "outputs": [
        {
          "name": "stderr",
          "output_type": "stream",
          "text": [
            "Some weights of BertForSentimentAnalysis were not initialized from the model checkpoint at bert-base-uncased and are newly initialized: ['classifier.bias', 'classifier.weight']\n",
            "You should probably TRAIN this model on a down-stream task to be able to use it for predictions and inference.\n"
          ]
        }
      ],
      "source": [
        "config = BertConfig.from_pretrained(\"bert-base-uncased\", num_labels=5)\n",
        "model = BertForSentimentAnalysis.from_pretrained(\"bert-base-uncased\", config=config)"
      ]
    },
    {
      "cell_type": "code",
      "execution_count": 17,
      "metadata": {
        "colab": {
          "base_uri": "https://localhost:8080/"
        },
        "execution": {
          "iopub.execute_input": "2025-03-20T15:02:00.641653Z",
          "iopub.status.busy": "2025-03-20T15:02:00.641304Z",
          "iopub.status.idle": "2025-03-20T15:02:01.144681Z",
          "shell.execute_reply": "2025-03-20T15:02:01.143759Z",
          "shell.execute_reply.started": "2025-03-20T15:02:00.641625Z"
        },
        "id": "ctKWheq3FKw4",
        "outputId": "fbbccd0a-61ba-4760-f4e0-8bc96a7341bb",
        "scrolled": true,
        "trusted": true
      },
      "outputs": [
        {
          "data": {
            "text/plain": [
              "BertForSentimentAnalysis(\n",
              "  (bert): BertModel(\n",
              "    (embeddings): BertEmbeddings(\n",
              "      (word_embeddings): Embedding(30522, 768, padding_idx=0)\n",
              "      (position_embeddings): Embedding(512, 768)\n",
              "      (token_type_embeddings): Embedding(2, 768)\n",
              "      (LayerNorm): LayerNorm((768,), eps=1e-12, elementwise_affine=True)\n",
              "      (dropout): Dropout(p=0.1, inplace=False)\n",
              "    )\n",
              "    (encoder): BertEncoder(\n",
              "      (layer): ModuleList(\n",
              "        (0-11): 12 x BertLayer(\n",
              "          (attention): BertAttention(\n",
              "            (self): BertSdpaSelfAttention(\n",
              "              (query): Linear(in_features=768, out_features=768, bias=True)\n",
              "              (key): Linear(in_features=768, out_features=768, bias=True)\n",
              "              (value): Linear(in_features=768, out_features=768, bias=True)\n",
              "              (dropout): Dropout(p=0.1, inplace=False)\n",
              "            )\n",
              "            (output): BertSelfOutput(\n",
              "              (dense): Linear(in_features=768, out_features=768, bias=True)\n",
              "              (LayerNorm): LayerNorm((768,), eps=1e-12, elementwise_affine=True)\n",
              "              (dropout): Dropout(p=0.1, inplace=False)\n",
              "            )\n",
              "          )\n",
              "          (intermediate): BertIntermediate(\n",
              "            (dense): Linear(in_features=768, out_features=3072, bias=True)\n",
              "            (intermediate_act_fn): GELUActivation()\n",
              "          )\n",
              "          (output): BertOutput(\n",
              "            (dense): Linear(in_features=3072, out_features=768, bias=True)\n",
              "            (LayerNorm): LayerNorm((768,), eps=1e-12, elementwise_affine=True)\n",
              "            (dropout): Dropout(p=0.1, inplace=False)\n",
              "          )\n",
              "        )\n",
              "      )\n",
              "    )\n",
              "    (pooler): BertPooler(\n",
              "      (dense): Linear(in_features=768, out_features=768, bias=True)\n",
              "      (activation): Tanh()\n",
              "    )\n",
              "  )\n",
              "  (dropout): Dropout(p=0.3, inplace=False)\n",
              "  (classifier): Linear(in_features=768, out_features=5, bias=True)\n",
              ")"
            ]
          },
          "execution_count": 17,
          "metadata": {},
          "output_type": "execute_result"
        }
      ],
      "source": [
        "device = torch.device(\"cuda\" if torch.cuda.is_available() else \"cpu\")\n",
        "model.to(device)"
      ]
    },
    {
      "cell_type": "code",
      "execution_count": 18,
      "metadata": {
        "execution": {
          "iopub.execute_input": "2025-03-20T15:02:05.419031Z",
          "iopub.status.busy": "2025-03-20T15:02:05.418700Z",
          "iopub.status.idle": "2025-03-20T15:02:05.422640Z",
          "shell.execute_reply": "2025-03-20T15:02:05.421938Z",
          "shell.execute_reply.started": "2025-03-20T15:02:05.419002Z"
        },
        "id": "XROCZ6mpFKw4",
        "trusted": true
      },
      "outputs": [],
      "source": [
        "text = df[\"Tweet Text\"].tolist()"
      ]
    },
    {
      "cell_type": "code",
      "execution_count": 19,
      "metadata": {
        "colab": {
          "base_uri": "https://localhost:8080/"
        },
        "id": "GsglgMKNKfUU",
        "outputId": "e4634a4e-5e95-45a0-85fb-e54934de6d52"
      },
      "outputs": [
        {
          "name": "stdout",
          "output_type": "stream",
          "text": [
            "['authority' 'care' 'fairness' 'loyalty' 'purity']\n"
          ]
        }
      ],
      "source": [
        "print(label_encoder.classes_)"
      ]
    },
    {
      "cell_type": "code",
      "execution_count": 33,
      "metadata": {
        "id": "HiFiW_rpV4Zx"
      },
      "outputs": [],
      "source": [
        "torch.cuda.empty_cache()"
      ]
    },
    {
      "cell_type": "code",
      "execution_count": 34,
      "metadata": {
        "colab": {
          "base_uri": "https://localhost:8080/",
          "height": 1000
        },
        "execution": {
          "iopub.execute_input": "2025-03-20T15:02:08.562499Z",
          "iopub.status.busy": "2025-03-20T15:02:08.562197Z"
        },
        "id": "j-V60s8PFKw4",
        "outputId": "2aae4e67-2dc5-4918-ed17-452ff3c909fa",
        "trusted": true
      },
      "outputs": [
        {
          "ename": "TypeError",
          "evalue": "k_fold_cross_validation() got an unexpected keyword argument 'label_encoder'",
          "output_type": "error",
          "traceback": [
            "\u001b[1;31m---------------------------------------------------------------------------\u001b[0m",
            "\u001b[1;31mTypeError\u001b[0m                                 Traceback (most recent call last)",
            "Cell \u001b[1;32mIn[34], line 2\u001b[0m\n\u001b[0;32m      1\u001b[0m \u001b[38;5;66;03m# Perform K-Fold Cross-Validation on training data\u001b[39;00m\n\u001b[1;32m----> 2\u001b[0m \u001b[43mk_fold_cross_validation\u001b[49m\u001b[43m(\u001b[49m\u001b[43mmodel\u001b[49m\u001b[43m,\u001b[49m\u001b[43m \u001b[49m\u001b[43mbert_train_dataset\u001b[49m\u001b[43m,\u001b[49m\u001b[43m \u001b[49m\u001b[43mk\u001b[49m\u001b[38;5;241;43m=\u001b[39;49m\u001b[38;5;241;43m5\u001b[39;49m\u001b[43m,\u001b[49m\u001b[43m \u001b[49m\u001b[43mbatch_size\u001b[49m\u001b[38;5;241;43m=\u001b[39;49m\u001b[38;5;241;43m8\u001b[39;49m\u001b[43m,\u001b[49m\u001b[43m \u001b[49m\u001b[43mepochs\u001b[49m\u001b[38;5;241;43m=\u001b[39;49m\u001b[38;5;241;43m3\u001b[39;49m\u001b[43m,\u001b[49m\u001b[43m \u001b[49m\u001b[43mlr\u001b[49m\u001b[38;5;241;43m=\u001b[39;49m\u001b[38;5;241;43m2e-5\u001b[39;49m\u001b[43m,\u001b[49m\u001b[43m \u001b[49m\u001b[43mtexts\u001b[49m\u001b[43m \u001b[49m\u001b[38;5;241;43m=\u001b[39;49m\u001b[43m \u001b[49m\u001b[43mtext\u001b[49m\u001b[43m,\u001b[49m\u001b[43mlabel_encoder\u001b[49m\u001b[38;5;241;43m=\u001b[39;49m\u001b[43m  \u001b[49m\u001b[43mlabel_encoder\u001b[49m\u001b[43m)\u001b[49m\n",
            "\u001b[1;31mTypeError\u001b[0m: k_fold_cross_validation() got an unexpected keyword argument 'label_encoder'"
          ]
        }
      ],
      "source": [
        "# Perform K-Fold Cross-Validation on training data\n",
        "k_fold_cross_validation(model, bert_train_dataset, k=5, batch_size=8, epochs=3, lr=2e-5, texts = text,label_encoder=  label_encoder)"
      ]
    },
    {
      "cell_type": "markdown",
      "metadata": {
        "id": "Ro_LadwqFKw5"
      },
      "source": [
        "# Tfidf with lstm\n",
        "- The data set is limited(1207 Tweets).\n",
        "- Data encoded using TF-IDF vectorizer and fed to lstm for classification\n",
        "- Performing K(5 here) fold cross validation for analyzing the model"
      ]
    },
    {
      "cell_type": "code",
      "execution_count": 22,
      "metadata": {
        "id": "N8j5BLuWNqPg"
      },
      "outputs": [],
      "source": [
        "class SentimentDataset(Dataset):\n",
        "    def __init__(self, sequences, labels, vectorizer):\n",
        "        self.sequences = vectorizer.transform(sequences).toarray()  # Transform text to numerical features\n",
        "        self.labels = labels\n",
        "\n",
        "    def __len__(self):\n",
        "        return len(self.labels)\n",
        "\n",
        "    def __getitem__(self, idx):\n",
        "        return {\n",
        "            'features': torch.tensor(self.sequences[idx], dtype=torch.float32),\n",
        "            'label': torch.tensor(self.labels[idx], dtype=torch.long)\n",
        "        }"
      ]
    },
    {
      "cell_type": "code",
      "execution_count": 23,
      "metadata": {
        "id": "P7zicexkNrYl"
      },
      "outputs": [],
      "source": [
        "class LSTMClassifier(nn.Module):\n",
        "    def __init__(self, input_dim, hidden_dim, output_dim):\n",
        "        super(LSTMClassifier, self).__init__()\n",
        "        self.bilstm = nn.LSTM(input_dim, hidden_dim, batch_first=True,bidirectional = True)\n",
        "\n",
        "        self.hidden1 = nn.Linear(hidden_dim*2, 128)\n",
        "        self.hidden2 = nn.Linear(128, 64)\n",
        "        self.hidden3 = nn.Linear(64, 32)\n",
        "        self.classifier = nn.Linear(32, output_dim)\n",
        "        self.dropout = nn.Dropout(0.3)\n",
        "\n",
        "    def forward(self, x):\n",
        "      # Reshape input to (batch_size, sequence_length=1, input_size)\n",
        "      x = x.unsqueeze(1)\n",
        "      _, (hidden, _) = self.bilstm(x)\n",
        "      hidden = torch.cat((hidden[-2], hidden[-1]), dim=1)  # Concatenate the last two hidden states\n",
        "      #output = self.dropout(hidden[-1])\n",
        "      output = self.hidden1(hidden)\n",
        "      output = self.dropout(output)\n",
        "      output = self.hidden2(output)\n",
        "      output = self.dropout(output)\n",
        "      output = self.hidden3(output)\n",
        "      output = self.dropout(output)\n",
        "      return self.classifier(output)"
      ]
    },
    {
      "cell_type": "code",
      "execution_count": 24,
      "metadata": {
        "id": "QlkN9G5RNtlM"
      },
      "outputs": [],
      "source": [
        "def k_fold_cross_validation(model, dataset, texts, labels, k=5, batch_size=8, epochs=5, lr=1e-3):\n",
        "    kf = KFold(n_splits=k, shuffle=True, random_state=42)\n",
        "\n",
        "    class_weights = compute_class_weight(class_weight='balanced', classes=np.unique(labels), y=labels)\n",
        "    class_weights = torch.tensor(class_weights, dtype=torch.float32).to(device)\n",
        "    criterion = nn.CrossEntropyLoss(weight=class_weights)\n",
        "    optimizer = optim.AdamW(model.parameters(), lr=lr)\n",
        "    scheduler = optim.lr_scheduler.StepLR(optimizer, step_size=2, gamma=0.5)\n",
        "\n",
        "    accuracies, precisions, recalls, f1_scores = [], [], [], []\n",
        "\n",
        "    for fold, (train_idx, val_idx) in enumerate(kf.split(dataset)):\n",
        "        print(f\"\\n🔹 Fold {fold+1}/{k}\")\n",
        "\n",
        "        train_sampler = SubsetRandomSampler(train_idx)\n",
        "        val_sampler = SubsetRandomSampler(val_idx)\n",
        "\n",
        "        train_loader = DataLoader(dataset, batch_size=batch_size, sampler=train_sampler)\n",
        "        val_loader = DataLoader(dataset, batch_size=batch_size, sampler=val_sampler)\n",
        "\n",
        "        for epoch in range(epochs):\n",
        "            model.train()\n",
        "            for batch in train_loader:\n",
        "                optimizer.zero_grad()\n",
        "\n",
        "                features = batch['features'].to(device)\n",
        "                labels = batch['label'].to(device)\n",
        "\n",
        "                outputs = model(features)\n",
        "                loss = criterion(outputs, labels)\n",
        "\n",
        "                loss.backward()\n",
        "                optimizer.step()\n",
        "\n",
        "            scheduler.step()\n",
        "\n",
        "        model.eval()\n",
        "        all_preds, all_labels = [], []\n",
        "        with torch.no_grad():\n",
        "            for batch in val_loader:\n",
        "                features = batch['features'].to(device)\n",
        "                outputs = model(features)\n",
        "                preds = torch.argmax(outputs, dim=1)\n",
        "                all_preds.extend(preds.cpu().numpy())\n",
        "                all_labels.extend(batch['label'].cpu().numpy())\n",
        "\n",
        "        accuracy = accuracy_score(all_labels, all_preds)\n",
        "        precision, recall, f1, _ = precision_recall_fscore_support(all_labels, all_preds, average=\"weighted\", zero_division=0)\n",
        "\n",
        "        accuracies.append(accuracy)\n",
        "        precisions.append(precision)\n",
        "        recalls.append(recall)\n",
        "        f1_scores.append(f1)\n",
        "\n",
        "        print(f\"✅ Fold {fold+1} - Accuracy: {accuracy:.4f}, Precision: {precision:.4f}, Recall: {recall:.4f}, F1-score: {f1:.4f}\")\n",
        "\n",
        "        cm = confusion_matrix(all_labels, all_preds)\n",
        "        plt.figure(figsize=(6, 4))\n",
        "        sns.heatmap(cm, annot=True, fmt='d', cmap='Blues', cbar=False)\n",
        "        plt.title(f'Confusion Matrix for Fold {fold+1}')\n",
        "        plt.xlabel('Predicted Label')\n",
        "        plt.ylabel('True Label')\n",
        "        plt.show()\n",
        "\n",
        "    print(f\"\\n🎯 Final Results Across {k} Folds:\")\n",
        "    print(f\"Avg Accuracy: {np.mean(accuracies):.4f}\")\n",
        "    print(f\"Avg Precision: {np.mean(precisions):.4f}\")\n",
        "    print(f\"Avg Recall: {np.mean(recalls):.4f}\")\n",
        "    print(f\"Avg F1-Score: {np.mean(f1_scores):.4f}\")\n"
      ]
    },
    {
      "cell_type": "code",
      "execution_count": 25,
      "metadata": {
        "id": "unlGt5HuNvoY"
      },
      "outputs": [],
      "source": [
        "vectorizer = TfidfVectorizer(max_features=512)\n",
        "features = vectorizer.fit_transform(X).toarray()\n",
        "vocab = vectorizer.get_feature_names_out()"
      ]
    },
    {
      "cell_type": "code",
      "execution_count": 26,
      "metadata": {
        "id": "z3ogHCqcNyXy"
      },
      "outputs": [],
      "source": [
        "input_dim = features.shape[1]\n",
        "hidden_dim = 256\n",
        "output_dim = 5"
      ]
    },
    {
      "cell_type": "code",
      "execution_count": 27,
      "metadata": {
        "colab": {
          "base_uri": "https://localhost:8080/"
        },
        "id": "rW27pTYqN1w7",
        "outputId": "79296eb5-e014-476d-8c90-c79b0464a8c3"
      },
      "outputs": [
        {
          "name": "stdout",
          "output_type": "stream",
          "text": [
            "512\n"
          ]
        }
      ],
      "source": [
        "print(input_dim)"
      ]
    },
    {
      "cell_type": "code",
      "execution_count": 28,
      "metadata": {
        "id": "c1sN4DTzN3ZW"
      },
      "outputs": [],
      "source": [
        "dataset = SentimentDataset(X, y, vectorizer)"
      ]
    },
    {
      "cell_type": "code",
      "execution_count": 29,
      "metadata": {
        "id": "h6w6RwQeN5YQ"
      },
      "outputs": [],
      "source": [
        "model = LSTMClassifier(input_dim, hidden_dim, output_dim)\n"
      ]
    },
    {
      "cell_type": "code",
      "execution_count": 30,
      "metadata": {
        "colab": {
          "base_uri": "https://localhost:8080/"
        },
        "id": "XObCuklKN8FY",
        "outputId": "b3d8bdbc-8930-4a69-eb04-253b506f1bfb"
      },
      "outputs": [
        {
          "data": {
            "text/plain": [
              "LSTMClassifier(\n",
              "  (bilstm): LSTM(512, 256, batch_first=True, bidirectional=True)\n",
              "  (hidden1): Linear(in_features=512, out_features=128, bias=True)\n",
              "  (hidden2): Linear(in_features=128, out_features=64, bias=True)\n",
              "  (hidden3): Linear(in_features=64, out_features=32, bias=True)\n",
              "  (classifier): Linear(in_features=32, out_features=5, bias=True)\n",
              "  (dropout): Dropout(p=0.3, inplace=False)\n",
              ")"
            ]
          },
          "execution_count": 30,
          "metadata": {},
          "output_type": "execute_result"
        }
      ],
      "source": [
        "device = torch.device(\"cuda\" if torch.cuda.is_available() else \"cpu\")\n",
        "model.to(device)"
      ]
    },
    {
      "cell_type": "code",
      "execution_count": 31,
      "metadata": {
        "colab": {
          "base_uri": "https://localhost:8080/",
          "height": 1000
        },
        "id": "BqbRc2GaN-Gg",
        "outputId": "88491135-5604-4d10-8634-26151100d173"
      },
      "outputs": [
        {
          "name": "stdout",
          "output_type": "stream",
          "text": [
            "\n",
            "🔹 Fold 1/5\n",
            "✅ Fold 1 - Accuracy: 0.4045, Precision: 0.4078, Recall: 0.4045, F1-score: 0.4054\n"
          ]
        },
        {
          "data": {
            "image/png": "[encoded data removed]",
            "text/plain": [
              "<Figure size 600x400 with 1 Axes>"
            ]
          },
          "metadata": {},
          "output_type": "display_data"
        },
        {
          "name": "stdout",
          "output_type": "stream",
          "text": [
            "\n",
            "🔹 Fold 2/5\n",
            "✅ Fold 2 - Accuracy: 0.7455, Precision: 0.7476, Recall: 0.7455, F1-score: 0.7437\n"
          ]
        },
        {
          "data": {
            "image/png": "[encoded data removed]",
            "text/plain": [
              "<Figure size 600x400 with 1 Axes>"
            ]
          },
          "metadata": {},
          "output_type": "display_data"
        },
        {
          "name": "stdout",
          "output_type": "stream",
          "text": [
            "\n",
            "🔹 Fold 3/5\n",
            "✅ Fold 3 - Accuracy: 0.8182, Precision: 0.8435, Recall: 0.8182, F1-score: 0.8181\n"
          ]
        },
        {
          "data": {
            "image/png": "[encoded data removed]",
            "text/plain": [
              "<Figure size 600x400 with 1 Axes>"
            ]
          },
          "metadata": {},
          "output_type": "display_data"
        },
        {
          "name": "stdout",
          "output_type": "stream",
          "text": [
            "\n",
            "🔹 Fold 4/5\n",
            "✅ Fold 4 - Accuracy: 0.8545, Precision: 0.8604, Recall: 0.8545, F1-score: 0.8537\n"
          ]
        },
        {
          "data": {
            "image/png": "[encoded data removed]",
            "text/plain": [
              "<Figure size 600x400 with 1 Axes>"
            ]
          },
          "metadata": {},
          "output_type": "display_data"
        },
        {
          "name": "stdout",
          "output_type": "stream",
          "text": [
            "\n",
            "🔹 Fold 5/5\n",
            "✅ Fold 5 - Accuracy: 0.8813, Precision: 0.8877, Recall: 0.8813, F1-score: 0.8785\n"
          ]
        },
        {
          "data": {
            "image/png": "[encoded data removed]",
            "text/plain": [
              "<Figure size 600x400 with 1 Axes>"
            ]
          },
          "metadata": {},
          "output_type": "display_data"
        },
        {
          "name": "stdout",
          "output_type": "stream",
          "text": [
            "\n",
            "🎯 Final Results Across 5 Folds:\n",
            "Avg Accuracy: 0.7408\n",
            "Avg Precision: 0.7494\n",
            "Avg Recall: 0.7408\n",
            "Avg F1-Score: 0.7399\n"
          ]
        }
      ],
      "source": [
        "k_fold_cross_validation(model, dataset, X, y)"
      ]
    },
    {
      "cell_type": "code",
      "execution_count": null,
      "metadata": {
        "id": "UkWG_tpnN-5j"
      },
      "outputs": [],
      "source": []
    }
  ],
  "metadata": {
    "accelerator": "GPU",
    "colab": {
      "gpuType": "T4",
      "provenance": []
    },
    "kaggle": {
      "accelerator": "nvidiaTeslaT4",
      "dataSources": [
        {
          "datasetId": 6814670,
          "sourceId": 10954526,
          "sourceType": "datasetVersion"
        }
      ],
      "dockerImageVersionId": 30919,
      "isGpuEnabled": true,
      "isInternetEnabled": true,
      "language": "python",
      "sourceType": "notebook"
    },
    "kernelspec": {
      "display_name": "Python 3",
      "name": "python3"
    },
    "language_info": {
      "codemirror_mode": {
        "name": "ipython",
        "version": 3
      },
      "file_extension": ".py",
      "mimetype": "text/x-python",
      "name": "python",
      "nbconvert_exporter": "python",
      "pygments_lexer": "ipython3",
      "version": "3.13.0"
    }
  },
  "nbformat": 4,
  "nbformat_minor": 0
}
